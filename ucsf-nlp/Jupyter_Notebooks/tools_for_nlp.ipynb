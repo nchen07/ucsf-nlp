{
 "cells": [
  {
   "cell_type": "markdown",
   "metadata": {},
   "source": [
    "## Tools for NLP"
   ]
  },
  {
   "cell_type": "code",
   "execution_count": 1,
   "metadata": {},
   "outputs": [],
   "source": [
    "#import statements\n",
    "import pandas as pd\n",
    "import numpy as np\n",
    "import datetime\n",
    "import matplotlib.pyplot as plt\n",
    "from matplotlib import style\n",
    "import re\n",
    "import difflib as dl\n",
    "import nltk\n",
    "from sklearn.model_selection import train_test_split"
   ]
  },
  {
   "cell_type": "markdown",
   "metadata": {},
   "source": [
    "## Accuracy, Precision, and Recall"
   ]
  },
  {
   "cell_type": "code",
   "execution_count": 2,
   "metadata": {},
   "outputs": [
    {
     "ename": "NameError",
     "evalue": "name 'data' is not defined",
     "output_type": "error",
     "traceback": [
      "\u001b[0;31m---------------------------------------------------------------------------\u001b[0m",
      "\u001b[0;31mNameError\u001b[0m                                 Traceback (most recent call last)",
      "\u001b[0;32m<ipython-input-2-69bd391b1336>\u001b[0m in \u001b[0;36m<module>\u001b[0;34m()\u001b[0m\n\u001b[1;32m     24\u001b[0m     \u001b[0;32mreturn\u001b[0m \u001b[0mTP\u001b[0m \u001b[0;34m/\u001b[0m \u001b[0mactual_pos\u001b[0m\u001b[0;34m.\u001b[0m\u001b[0mshape\u001b[0m\u001b[0;34m[\u001b[0m\u001b[0;36m0\u001b[0m\u001b[0;34m]\u001b[0m\u001b[0;34m\u001b[0m\u001b[0m\n\u001b[1;32m     25\u001b[0m \u001b[0;34m\u001b[0m\u001b[0m\n\u001b[0;32m---> 26\u001b[0;31m \u001b[0;34m(\u001b[0m\u001b[0maccuracy\u001b[0m\u001b[0;34m(\u001b[0m\u001b[0mdata\u001b[0m\u001b[0;34m)\u001b[0m\u001b[0;34m,\u001b[0m \u001b[0mprecision\u001b[0m\u001b[0;34m(\u001b[0m\u001b[0mdata\u001b[0m\u001b[0;34m)\u001b[0m\u001b[0;34m,\u001b[0m \u001b[0mrecall\u001b[0m\u001b[0;34m(\u001b[0m\u001b[0mdata\u001b[0m\u001b[0;34m)\u001b[0m\u001b[0;34m)\u001b[0m\u001b[0;34m\u001b[0m\u001b[0m\n\u001b[0m",
      "\u001b[0;31mNameError\u001b[0m: name 'data' is not defined"
     ]
    }
   ],
   "source": [
    "def accuracy(data):\n",
    "    return sum(data[\"Label\"] == data[\"Extracted Label\"]) / data.shape[0]\n",
    "\n",
    "def precision(data):\n",
    "    \"\"\"Of the samples that we identified as positive, the proportion of samples that were actually positive \n",
    "        [tP/number classified as positive]\n",
    "        Param: - results is a list of labels returned by the classifier\n",
    "              - reference is a list of correct labels of test set\"\"\"\n",
    "    class_pos = data[[\"Positive\" in label for label in data[\"Extracted Label\"]]]\n",
    "    \n",
    "    TP = sum([\"Positive\" in label for label in class_pos[\"Label\"]])\n",
    "\n",
    "    return TP / class_pos.shape[0]\n",
    "\n",
    "def recall(data):\n",
    "    \"\"\"Proportion of positive samples that we caught [tP/number of actual positives]\n",
    "        Param: - results is a list of labels returned by the classifier\n",
    "              - reference is a list of correct labels of test set\"\"\"\n",
    "    \n",
    "    actual_pos = data[[\"Positive\" in label for label in data[\"Label\"]]]\n",
    "    \n",
    "    TP = sum([\"Positive\" in label for label in actual_pos[\"Extracted Label\"]])\n",
    "    \n",
    "    return TP / actual_pos.shape[0]\n",
    "\n",
    "(accuracy(data), precision(data), recall(data))"
   ]
  },
  {
   "cell_type": "markdown",
   "metadata": {},
   "source": [
    "## Naive Bayes Classifier\n",
    "\n",
    "Use Naive Bayes to classify the path reports that regex can't correctly identify (labels = ilc, idc, fibro, etc.)\n",
    "a.k.a. classify misSamples"
   ]
  },
  {
   "cell_type": "code",
   "execution_count": null,
   "metadata": {},
   "outputs": [],
   "source": [
    "# Reports that weren't classified correctly\n",
    "misPatIDs = data[data[\"Label\"] != data[\"Extracted Label\"]].index.values\n",
    "misSamples = biopData.iloc[[row for row in range(numSamples) if biopData.iloc[row][\"Patient\"] in misPatIDs]]\n",
    "misSamples"
   ]
  },
  {
   "cell_type": "code",
   "execution_count": null,
   "metadata": {},
   "outputs": [],
   "source": [
    "# corrSamples = Correctly labeled samples\n",
    "corrPatIDs = data[data[\"Label\"] == data[\"Extracted Label\"]].index.values\n",
    "corrSamples = biopData.iloc[[row for row in range(numSamples) if biopData.iloc[row][\"Patient\"] in corrPatIDs]]\n",
    "corrSamples = corrSamples.reset_index().drop(\"index\", 1)\n",
    "corrSamples"
   ]
  },
  {
   "cell_type": "markdown",
   "metadata": {},
   "source": [
    "# Featurize the path reports\n",
    "- Develop a featurization of the correct reports\n",
    "- Instead of just counting frequencies of all tokens, we will use n-grams, and identify the most useful words\n"
   ]
  },
  {
   "cell_type": "markdown",
   "metadata": {},
   "source": [
    "## Method 1: Use entire vocabulary to determine feature set"
   ]
  },
  {
   "cell_type": "code",
   "execution_count": null,
   "metadata": {},
   "outputs": [],
   "source": [
    "def accuracy(classified, reference):\n",
    "    assert len(classified) == len(reference)\n",
    "    numData = len(classified)\n",
    "    numClassifiedCorrect = sum([classified[i] == reference[i] for _ in range(len(reference))])\n",
    "    return numClasifiedCorrect\n",
    "\n",
    "def precision(classified, reference):\n",
    "    \"\"\"Of the samples that we identified as a x, the proportion of samples that were actually x \n",
    "        [tP/number classified as x]\n",
    "    Args: lists of classified labels and reference labels\"\"\"\n",
    "    labels = set(reference)\n",
    "    \n",
    "    precs = {}\n",
    "    for label in labels:\n",
    "        classifiedAsLabel = [i for i in range(len(classified)) if classified[i] == label]\n",
    "        TP = sum([reference[i] == label for i in classifiedAsLabel])\n",
    "        precs[label] = TP / len(classifiedAsLabel)\n",
    "    return precs\n",
    "\n",
    "def recall(classified, reference):\n",
    "    \"\"\"Of the samples that were x, the proportion of samples that we classified as x\n",
    "        [tP/number classified as x]\n",
    "    Args: lists of classified labels and reference labels\"\"\"\n",
    "    labels = set(reference)\n",
    "    \n",
    "    recs = {}\n",
    "    for label in labels:\n",
    "        labeled = [i for i in range(len(reference)) if reference[i] == label]\n",
    "        TP = sum([classified[i] == label for i in labeled])\n",
    "        recs[label] = TP / len(labeled)\n",
    "    return recs\n",
    "\n",
    "def getPRBoW(pathRep, vocab):\n",
    "    bow = {}\n",
    "    for word in vocab:\n",
    "        bow[word] = pathRep.count(' '.join(word))\n",
    "    return bow\n",
    "\n",
    "def test_feature_set(features):\n",
    "    corrSamples[\"Path Report BoW\"] = [getPRBoW(pathRep, features) for pathRep in corrSamples[\"Path Report\"]]\n",
    "\n",
    "    prFeatureSet = [(corrSamples.iloc[i][\"Path Report BoW\"], corrSamples.iloc[i][\"Cancer Type\"]) \n",
    "                for i in range(corrSamples.shape[0])]\n",
    "\n",
    "    train, test = train_test_split(prFeatureSet, test_size=0.2)\n",
    "    classifier = nltk.NaiveBayesClassifier.train(train)\n",
    "    testSet = classifier.classify_many([rep[0] for rep in test])\n",
    "    referenceSet = [rep[1] for rep in test]\n",
    "\n",
    "    classifier.show_most_informative_features(30)\n",
    "    return nltk.classify.accuracy(classifier, test), precision(testSet, referenceSet), recall(testSet, referenceSet)\n"
   ]
  },
  {
   "cell_type": "code",
   "execution_count": null,
   "metadata": {},
   "outputs": [],
   "source": [
    "test_feature_set(vocab)"
   ]
  },
  {
   "cell_type": "markdown",
   "metadata": {},
   "source": [
    "## Method 2: Take the top k most common tokens"
   ]
  },
  {
   "cell_type": "code",
   "execution_count": null,
   "metadata": {
    "collapsed": true
   },
   "outputs": [],
   "source": [
    "from collections import Counter\n",
    "\n",
    "k = 2000\n",
    "k_most_common_tokens = [token[0] for token in Counter(compiledReps).most_common(k)]\n",
    "\n",
    "test_feature_set(k_most_common_tokens)"
   ]
  },
  {
   "cell_type": "markdown",
   "metadata": {},
   "source": [
    "## Method 3: Take the top k most common tokens from each class"
   ]
  },
  {
   "cell_type": "code",
   "execution_count": null,
   "metadata": {
    "collapsed": true
   },
   "outputs": [],
   "source": [
    "k = 500\n",
    "\n",
    "features = []\n",
    "\n",
    "corrSamples[\"Reports Tokenized\"] = tokPathReps\n",
    "for cancer in cancer_types:\n",
    "    w_cancer = corrSamples[corrSamples[\"Cancer Type\"] == cancer]\n",
    "    cancer_reps_tok = w_cancer[\"Reports Tokenized\"]\n",
    "    cancer_tokens = [token for pathRep in cancer_reps_tok for token in pathRep]\n",
    "    cancer_tokens_freq = Counter(cancer_tokens)\n",
    "    features.extend([elem[0] for elem in cancer_tokens_freq.most_common(k)])\n",
    "features = set(features)\n",
    "features"
   ]
  },
  {
   "cell_type": "code",
   "execution_count": null,
   "metadata": {
    "collapsed": true
   },
   "outputs": [],
   "source": [
    "corrSamples[\"Path Report BoW\"] = [getPRBoW(pathRep, features) for pathRep in corrSamples[\"Path Report\"]]\n",
    "\n",
    "prFeatureSet = [(corrSamples.iloc[i][\"Path Report BoW\"], corrSamples.iloc[i][\"Cancer Type\"]) \n",
    "            for i in range(corrSamples.shape[0])]\n",
    "\n",
    "train, test = train_test_split(prFeatureSet, test_size=0.2)\n",
    "classifier = nltk.NaiveBayesClassifier.train(train)\n",
    "testSet = classifier.classify_many([rep[0] for rep in test])\n",
    "referenceSet = [rep[1] for rep in test]\n",
    "\n",
    "classifier.show_most_informative_features(30)"
   ]
  },
  {
   "cell_type": "code",
   "execution_count": null,
   "metadata": {
    "collapsed": true
   },
   "outputs": [],
   "source": [
    "nltk.classify.accuracy(classifier, test), precision(testSet, referenceSet), recall(testSet, referenceSet)"
   ]
  },
  {
   "cell_type": "markdown",
   "metadata": {},
   "source": [
    "## Method 4: Featurize using 2-grams and 3-grams (take top k most common)"
   ]
  },
  {
   "cell_type": "code",
   "execution_count": null,
   "metadata": {
    "collapsed": true,
    "scrolled": true
   },
   "outputs": [],
   "source": [
    "k = 500\n",
    "from nltk.util import ngrams\n",
    "\n",
    "tokPathReps = corrSamples[\"Path Report\"].apply(lambda s: negate_sequence(nltk.word_tokenize(s)))\n",
    "two_grams = [bigram for tokPathRep in tokPathReps for bigram in list(ngrams(tokPathRep, 2))]\n",
    "three_grams = [trigram for tokPathRep in tokPathReps for trigram in list(ngrams(tokPathRep, 3))]\n",
    "two_grams_set = set(two_grams)\n",
    "three_grams_set = set(three_grams)\n",
    "\n",
    "vocab_ngrams = vocab.union(two_grams_set, three_grams_set)"
   ]
  },
  {
   "cell_type": "code",
   "execution_count": null,
   "metadata": {
    "collapsed": true
   },
   "outputs": [],
   "source": [
    "test_feature_set(vocab_ngrams)"
   ]
  },
  {
   "cell_type": "markdown",
   "metadata": {},
   "source": [
    "### Modify getCancerLabel to utilize NaiveBayesClassifier to catch weirdly phrased path reports"
   ]
  },
  {
   "cell_type": "code",
   "execution_count": null,
   "metadata": {
    "collapsed": true
   },
   "outputs": [],
   "source": [
    "backupClassifier = nltk.NaiveBayesClassifier.train(prFeatureSet)\n",
    "\n",
    "def getCancerTypeBayes(rep):\n",
    "    rep = ' '.join(negate_sequence(nltk.word_tokenize(rep))).lower()\n",
    "    \n",
    "    for i in range(len(cancer_types)): #cancer in cancer_types:\n",
    "        if re.search(cancer_re[i], rep): #cancer in rep: #fuzzySubstrMatch(rep, cancer, 0.95):\n",
    "            return cancer_types[i]\n",
    "        \n",
    "    return backupClassifier.classify(getPRBoW(rep))"
   ]
  },
  {
   "cell_type": "code",
   "execution_count": null,
   "metadata": {
    "collapsed": true
   },
   "outputs": [],
   "source": [
    "biopData[\"Cancer Type Bayes\"] = biopData[\"Path Report\"].apply(getCancerTypeBayes)"
   ]
  },
  {
   "cell_type": "code",
   "execution_count": null,
   "metadata": {
    "collapsed": true
   },
   "outputs": [],
   "source": [
    "biopData"
   ]
  },
  {
   "cell_type": "code",
   "execution_count": null,
   "metadata": {
    "collapsed": true
   },
   "outputs": [],
   "source": [
    "labels = []\n",
    "for patID in range(numPatients):\n",
    "    labels.append(radLabel(patID))\n",
    "data[\"Extracted Label Bayes\"] = labels"
   ]
  },
  {
   "cell_type": "markdown",
   "metadata": {},
   "source": [
    "## Method 5: Naive Bayes"
   ]
  },
  {
   "cell_type": "code",
   "execution_count": null,
   "metadata": {
    "collapsed": true
   },
   "outputs": [],
   "source": [
    "biopData\n",
    "\n",
    "\n",
    "def getCancerLabel(biop):\n",
    "    #patID = biop[\"Patient\"]\n",
    "    #label = data.iloc[patID][\"Label\"]\n",
    "    label = biop[\"Patient Label\"]\n",
    "    laterality = biop[\"Laterality\"]\n",
    "    \n",
    "    # To see possible labels run data.groupby(\"Label\").count()\n",
    "    \n",
    "    if label == \"Negative\":\n",
    "        return \"Negative\"\n",
    "    if laterality == \"left\":\n",
    "        if label == \"Bilateral Positive\" or label == \"Left Positive\":\n",
    "            return \"Positive\"\n",
    "        return \"Negative\"\n",
    "    elif laterality == \"right\":\n",
    "        if label == \"Bilateral Positive\" or label == \"Right Positive\":\n",
    "            return \"Positive\"\n",
    "        return \"Negative\"\n",
    "    else:\n",
    "        return None\n",
    "\n",
    "biopData[\"Biopsy Label\"] = [getCancerLabel(biopData.iloc[i]) for i in range(numSamples)]"
   ]
  },
  {
   "cell_type": "code",
   "execution_count": null,
   "metadata": {
    "collapsed": true
   },
   "outputs": [],
   "source": [
    "biopData"
   ]
  },
  {
   "cell_type": "code",
   "execution_count": null,
   "metadata": {
    "collapsed": true,
    "scrolled": true
   },
   "outputs": [],
   "source": [
    "biopData[biopData[\"Patient\"] == 7]"
   ]
  },
  {
   "cell_type": "code",
   "execution_count": null,
   "metadata": {
    "collapsed": true
   },
   "outputs": [],
   "source": [
    "nltk.word_tokenize(\"This will be a complex sentence; compound f.t.w.\")"
   ]
  },
  {
   "cell_type": "code",
   "execution_count": null,
   "metadata": {
    "collapsed": true
   },
   "outputs": [],
   "source": [
    "from nltk.classify import NaiveBayesClassifier\n",
    "from nltk.corpus import subjectivity\n",
    "from nltk.sentiment import SentimentAnalyzer\n",
    "from nltk.sentiment.util import *"
   ]
  },
  {
   "cell_type": "code",
   "execution_count": null,
   "metadata": {
    "collapsed": true
   },
   "outputs": [],
   "source": [
    "# Negating \n",
    "def negate_sequence(tokens):\n",
    "    \"\"\"\n",
    "    Detects negations and transforms negated words into \"not_\" form.\n",
    "    \"\"\"\n",
    "    negation = False\n",
    "    delims = \"?.,!:;\"\n",
    "    result = []\n",
    "#Here rather then applying split, we can directly feed our extracted symptoms list\n",
    "    #words = text.split()\n",
    "    prev = None\n",
    "    pprev = None\n",
    "    for token in tokens:\n",
    "        # stripped = word.strip(delchars)\n",
    "        #stripped = word.strip(delims).lower()\n",
    "        if any(c == token for c in delims):\n",
    "            negation = False\n",
    "        \n",
    "        negated = \"not_\" + token if negation else token\n",
    "        result.append(negated)\n",
    "\n",
    "        if any(neg == token.lower() for neg in [\"not\", \"n't\", \"no\"]):\n",
    "            negation = not negation   \n",
    "\n",
    "    return result"
   ]
  },
  {
   "cell_type": "code",
   "execution_count": null,
   "metadata": {
    "collapsed": true
   },
   "outputs": [],
   "source": [
    "biopData[\"Path Report Tokenized\"] = biopData[\"Path Report\"].apply(lambda s: negate_sequence(nltk.word_tokenize(s)))\n",
    "# Can try double negation flip, set parameter double_neg_flip = True"
   ]
  },
  {
   "cell_type": "code",
   "execution_count": null,
   "metadata": {
    "collapsed": true
   },
   "outputs": [],
   "source": [
    "# Constructing feature representation of Path Reports. The feature set is a dictionary where\n",
    "# the keys are words, and the values are frequencies\n",
    "\n",
    "compiledReps = []\n",
    "for i in range(numSamples):\n",
    "    compiledReps += biopData.iloc[i][\"Path Report Tokenized\"]\n",
    "\n",
    "vocab = set(compiledReps)\n",
    "\n",
    "def getPRBoW(pathRep):\n",
    "    bow = {}\n",
    "    for word in vocab:\n",
    "        bow[word] = pathRep.count(word)\n",
    "    return bow\n",
    "\n",
    "biopData[\"Path Report BoW\"] = biopData[\"Path Report Tokenized\"].apply(getPRBoW)"
   ]
  },
  {
   "cell_type": "code",
   "execution_count": null,
   "metadata": {
    "collapsed": true
   },
   "outputs": [],
   "source": [
    "breastData = biopData[biopData[\"Biopsy Source\"] == \"breast\"].dropna()\n",
    "num_brsamples = breastData.shape[0]\n",
    "\n",
    "brfeatureset = [(breastData.iloc[i][\"Path Report BoW\"], breastData.iloc[i][\"Biopsy Label\"]) \n",
    "            for i in range(num_brsamples)]"
   ]
  },
  {
   "cell_type": "code",
   "execution_count": null,
   "metadata": {
    "collapsed": true
   },
   "outputs": [],
   "source": [
    "breastData.reset_index()#.iloc[10][\"Path Report\"]"
   ]
  },
  {
   "cell_type": "code",
   "execution_count": null,
   "metadata": {
    "collapsed": true
   },
   "outputs": [],
   "source": [
    "s = breastData.reset_index().iloc[5][\"Path Report\"]\n",
    "s"
   ]
  },
  {
   "cell_type": "code",
   "execution_count": null,
   "metadata": {
    "collapsed": true
   },
   "outputs": [],
   "source": [
    "\"Hello\".lower()"
   ]
  },
  {
   "cell_type": "code",
   "execution_count": null,
   "metadata": {
    "collapsed": true
   },
   "outputs": [],
   "source": [
    "negate_sequence(nltk.word_tokenize(breastData.reset_index().iloc[14][\"Path Report\"]))"
   ]
  },
  {
   "cell_type": "markdown",
   "metadata": {},
   "source": [
    "## Regex Matching/Preprocessing"
   ]
  },
  {
   "cell_type": "code",
   "execution_count": null,
   "metadata": {
    "collapsed": true
   },
   "outputs": [],
   "source": [
    "numPos = sum(biopData[\"Biopsy Label\"] == \"Positive\")\n",
    "numNeg = sum(biopData[\"Biopsy Label\"] == \"Negative\")\n",
    "numPosBr = sum(breastData[\"Biopsy Label\"] == \"Positive\")\n",
    "numNegBr = sum(breastData[\"Biopsy Label\"] == \"Negative\")\n",
    "(numPos, numNeg, numPosBr, numNegBr)"
   ]
  },
  {
   "cell_type": "code",
   "execution_count": null,
   "metadata": {
    "collapsed": true
   },
   "outputs": [],
   "source": [
    "# Simply just classify path reps with \n",
    "biopData[[\"carcinoma\" in rep for rep in biopData[\"Path Report\"]]][\"Patient\"]#.tolist().count(\"Positive\")"
   ]
  },
  {
   "cell_type": "markdown",
   "metadata": {},
   "source": [
    "## Naive Bayes Classifier Setup"
   ]
  },
  {
   "cell_type": "code",
   "execution_count": null,
   "metadata": {
    "collapsed": true
   },
   "outputs": [],
   "source": [
    "from sklearn.model_selection import train_test_split\n",
    "\n",
    "train, test = train_test_split(brfeatureset, test_size=0.2)"
   ]
  },
  {
   "cell_type": "code",
   "execution_count": null,
   "metadata": {
    "collapsed": true
   },
   "outputs": [],
   "source": [
    "classifier = nltk.NaiveBayesClassifier.train(train)"
   ]
  },
  {
   "cell_type": "code",
   "execution_count": null,
   "metadata": {
    "collapsed": true,
    "scrolled": true
   },
   "outputs": [],
   "source": [
    "testSet = classifier.classify_many([rep[0] for rep in test])"
   ]
  },
  {
   "cell_type": "code",
   "execution_count": null,
   "metadata": {
    "collapsed": true
   },
   "outputs": [],
   "source": [
    "referenceSet = [rep[1] for rep in test]"
   ]
  },
  {
   "cell_type": "code",
   "execution_count": null,
   "metadata": {
    "collapsed": true
   },
   "outputs": [],
   "source": [
    "(testSet.count(\"Positive\"), referenceSet.count(\"Positive\"))"
   ]
  },
  {
   "cell_type": "code",
   "execution_count": null,
   "metadata": {
    "collapsed": true
   },
   "outputs": [],
   "source": [
    "print(nltk.classify.accuracy(classifier, test))"
   ]
  },
  {
   "cell_type": "code",
   "execution_count": null,
   "metadata": {
    "collapsed": true,
    "scrolled": true
   },
   "outputs": [],
   "source": [
    "classifier.show_most_informative_features(30)"
   ]
  },
  {
   "cell_type": "code",
   "execution_count": null,
   "metadata": {
    "collapsed": true
   },
   "outputs": [],
   "source": [
    "def precision(results, reference):\n",
    "    \"\"\"Proportion of samples that we identified as positive that were actually positive tP/total positive\n",
    "        Param: - results is a list of labels returned by the classifier\n",
    "              - reference is a list of correct labels of test set\"\"\"\n",
    "    TP = sum([(results[i] == \"Positive\") and (reference[i] == \"Positive\") for i in range(len(reference))])\n",
    "    FP = sum([(results[i] == \"Positive\") and (reference[i] == \"Negative\") for i in range(len(reference))])\n",
    "    return TP / (TP + FP)\n",
    "\n",
    "def recall(results, reference):\n",
    "    \"\"\"Proportion of positive samples that we caught tP/total actual positive\n",
    "        Param: - results is a list of labels returned by the classifier\n",
    "              - reference is a list of correct labels of test set\"\"\"\n",
    "    TP = sum([(results[i] == \"Positive\") and (reference[i] == \"Positive\") for i in range(len(reference))])\n",
    "    FN = sum([(results[i] == \"Negative\") and (reference[i] == \"Positive\") for i in range(len(reference))])\n",
    "    return TP / (TP + FN)"
   ]
  },
  {
   "cell_type": "code",
   "execution_count": null,
   "metadata": {
    "collapsed": true
   },
   "outputs": [],
   "source": [
    "(precision(testSet, referenceSet), recall(testSet, referenceSet))"
   ]
  },
  {
   "cell_type": "code",
   "execution_count": null,
   "metadata": {
    "collapsed": true
   },
   "outputs": [],
   "source": [
    "num_brsamples = breastData.shape[0]\n",
    "num_brsamples"
   ]
  },
  {
   "cell_type": "code",
   "execution_count": null,
   "metadata": {
    "collapsed": true
   },
   "outputs": [],
   "source": [
    "def cross_validate(reps):\n",
    "    precs, recs = [], []\n",
    "    for _ in range(reps):\n",
    "        train, test = train_test_split(brfeatureset, test_size=0.2)\n",
    "        classifier = nltk.NaiveBayesClassifier.train(train)\n",
    "        results = classifier.classify_many([rep[0] for rep in test])\n",
    "        reference = [rep[1] for rep in test]\n",
    "        precs.append(precision(results, reference))\n",
    "        recs.append(recall(results, reference))\n",
    "    plt.plot(range(1, reps + 1), precs)\n",
    "    plt.plot(range(1, reps + 1), recs)\n",
    "    plt.legend(['precision', 'recall'])\n",
    "    plt.show()"
   ]
  },
  {
   "cell_type": "code",
   "execution_count": null,
   "metadata": {
    "collapsed": true
   },
   "outputs": [],
   "source": [
    "cross_validate(3)"
   ]
  },
  {
   "cell_type": "code",
   "execution_count": null,
   "metadata": {
    "collapsed": true
   },
   "outputs": [],
   "source": [
    "np.random.choice([1, 2, 3], 5, replacement = False)"
   ]
  },
  {
   "cell_type": "code",
   "execution_count": null,
   "metadata": {
    "collapsed": true
   },
   "outputs": [],
   "source": [
    "[1, 2, 3].index(3)"
   ]
  }
 ],
 "metadata": {
  "kernelspec": {
   "display_name": "Python 3",
   "language": "python",
   "name": "python3"
  },
  "language_info": {
   "codemirror_mode": {
    "name": "ipython",
    "version": 3
   },
   "file_extension": ".py",
   "mimetype": "text/x-python",
   "name": "python",
   "nbconvert_exporter": "python",
   "pygments_lexer": "ipython3",
   "version": "3.6.1"
  }
 },
 "nbformat": 4,
 "nbformat_minor": 2
}
